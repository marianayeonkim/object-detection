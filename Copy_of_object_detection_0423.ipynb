{
  "nbformat": 4,
  "nbformat_minor": 0,
  "metadata": {
    "colab": {
      "name": "Copy of object-detection-0423.ipynb",
      "provenance": [],
      "collapsed_sections": []
    },
    "kernelspec": {
      "name": "python3",
      "display_name": "Python 3"
    },
    "language_info": {
      "name": "python"
    },
    "accelerator": "GPU"
  },
  "cells": [
    {
      "cell_type": "code",
      "execution_count": null,
      "metadata": {
        "colab": {
          "base_uri": "https://localhost:8080/"
        },
        "id": "nxBv8u8eqEXU",
        "outputId": "81117865-8d71-4222-b81d-f8e2a2bd37ed"
      },
      "outputs": [
        {
          "output_type": "stream",
          "name": "stdout",
          "text": [
            "Cloning into 'yolov5'...\n",
            "remote: Enumerating objects: 13189, done.\u001b[K\n",
            "remote: Counting objects: 100% (1/1), done.\u001b[K\n",
            "remote: Total 13189 (delta 0), reused 0 (delta 0), pack-reused 13188\u001b[K\n",
            "Receiving objects: 100% (13189/13189), 12.01 MiB | 15.10 MiB/s, done.\n",
            "Resolving deltas: 100% (9170/9170), done.\n",
            "/content/yolov5\n",
            "Requirement already satisfied: matplotlib>=3.2.2 in /usr/local/lib/python3.7/dist-packages (from -r requirements.txt (line 4)) (3.2.2)\n",
            "Requirement already satisfied: numpy>=1.18.5 in /usr/local/lib/python3.7/dist-packages (from -r requirements.txt (line 5)) (1.21.6)\n",
            "Requirement already satisfied: opencv-python>=4.1.1 in /usr/local/lib/python3.7/dist-packages (from -r requirements.txt (line 6)) (4.1.2.30)\n",
            "Requirement already satisfied: Pillow>=7.1.2 in /usr/local/lib/python3.7/dist-packages (from -r requirements.txt (line 7)) (7.1.2)\n",
            "Collecting PyYAML>=5.3.1\n",
            "  Downloading PyYAML-6.0-cp37-cp37m-manylinux_2_5_x86_64.manylinux1_x86_64.manylinux_2_12_x86_64.manylinux2010_x86_64.whl (596 kB)\n",
            "\u001b[K     |████████████████████████████████| 596 kB 12.4 MB/s \n",
            "\u001b[?25hRequirement already satisfied: requests>=2.23.0 in /usr/local/lib/python3.7/dist-packages (from -r requirements.txt (line 9)) (2.23.0)\n",
            "Requirement already satisfied: scipy>=1.4.1 in /usr/local/lib/python3.7/dist-packages (from -r requirements.txt (line 10)) (1.4.1)\n",
            "Requirement already satisfied: torch>=1.7.0 in /usr/local/lib/python3.7/dist-packages (from -r requirements.txt (line 11)) (1.11.0+cu113)\n",
            "Requirement already satisfied: torchvision>=0.8.1 in /usr/local/lib/python3.7/dist-packages (from -r requirements.txt (line 12)) (0.12.0+cu113)\n",
            "Requirement already satisfied: tqdm>=4.41.0 in /usr/local/lib/python3.7/dist-packages (from -r requirements.txt (line 13)) (4.64.0)\n",
            "Requirement already satisfied: tensorboard>=2.4.1 in /usr/local/lib/python3.7/dist-packages (from -r requirements.txt (line 16)) (2.8.0)\n",
            "Requirement already satisfied: pandas>=1.1.4 in /usr/local/lib/python3.7/dist-packages (from -r requirements.txt (line 20)) (1.3.5)\n",
            "Requirement already satisfied: seaborn>=0.11.0 in /usr/local/lib/python3.7/dist-packages (from -r requirements.txt (line 21)) (0.11.2)\n",
            "Collecting thop\n",
            "  Downloading thop-0.0.31.post2005241907-py3-none-any.whl (8.7 kB)\n",
            "Requirement already satisfied: pyparsing!=2.0.4,!=2.1.2,!=2.1.6,>=2.0.1 in /usr/local/lib/python3.7/dist-packages (from matplotlib>=3.2.2->-r requirements.txt (line 4)) (3.0.8)\n",
            "Requirement already satisfied: python-dateutil>=2.1 in /usr/local/lib/python3.7/dist-packages (from matplotlib>=3.2.2->-r requirements.txt (line 4)) (2.8.2)\n",
            "Requirement already satisfied: kiwisolver>=1.0.1 in /usr/local/lib/python3.7/dist-packages (from matplotlib>=3.2.2->-r requirements.txt (line 4)) (1.4.2)\n",
            "Requirement already satisfied: cycler>=0.10 in /usr/local/lib/python3.7/dist-packages (from matplotlib>=3.2.2->-r requirements.txt (line 4)) (0.11.0)\n",
            "Requirement already satisfied: idna<3,>=2.5 in /usr/local/lib/python3.7/dist-packages (from requests>=2.23.0->-r requirements.txt (line 9)) (2.10)\n",
            "Requirement already satisfied: chardet<4,>=3.0.2 in /usr/local/lib/python3.7/dist-packages (from requests>=2.23.0->-r requirements.txt (line 9)) (3.0.4)\n",
            "Requirement already satisfied: urllib3!=1.25.0,!=1.25.1,<1.26,>=1.21.1 in /usr/local/lib/python3.7/dist-packages (from requests>=2.23.0->-r requirements.txt (line 9)) (1.24.3)\n",
            "Requirement already satisfied: certifi>=2017.4.17 in /usr/local/lib/python3.7/dist-packages (from requests>=2.23.0->-r requirements.txt (line 9)) (2021.10.8)\n",
            "Requirement already satisfied: typing-extensions in /usr/local/lib/python3.7/dist-packages (from torch>=1.7.0->-r requirements.txt (line 11)) (4.2.0)\n",
            "Requirement already satisfied: setuptools>=41.0.0 in /usr/local/lib/python3.7/dist-packages (from tensorboard>=2.4.1->-r requirements.txt (line 16)) (57.4.0)\n",
            "Requirement already satisfied: tensorboard-plugin-wit>=1.6.0 in /usr/local/lib/python3.7/dist-packages (from tensorboard>=2.4.1->-r requirements.txt (line 16)) (1.8.1)\n",
            "Requirement already satisfied: absl-py>=0.4 in /usr/local/lib/python3.7/dist-packages (from tensorboard>=2.4.1->-r requirements.txt (line 16)) (1.0.0)\n",
            "Requirement already satisfied: google-auth<3,>=1.6.3 in /usr/local/lib/python3.7/dist-packages (from tensorboard>=2.4.1->-r requirements.txt (line 16)) (1.35.0)\n",
            "Requirement already satisfied: wheel>=0.26 in /usr/local/lib/python3.7/dist-packages (from tensorboard>=2.4.1->-r requirements.txt (line 16)) (0.37.1)\n",
            "Requirement already satisfied: markdown>=2.6.8 in /usr/local/lib/python3.7/dist-packages (from tensorboard>=2.4.1->-r requirements.txt (line 16)) (3.3.6)\n",
            "Requirement already satisfied: google-auth-oauthlib<0.5,>=0.4.1 in /usr/local/lib/python3.7/dist-packages (from tensorboard>=2.4.1->-r requirements.txt (line 16)) (0.4.6)\n",
            "Requirement already satisfied: werkzeug>=0.11.15 in /usr/local/lib/python3.7/dist-packages (from tensorboard>=2.4.1->-r requirements.txt (line 16)) (1.0.1)\n",
            "Requirement already satisfied: tensorboard-data-server<0.7.0,>=0.6.0 in /usr/local/lib/python3.7/dist-packages (from tensorboard>=2.4.1->-r requirements.txt (line 16)) (0.6.1)\n",
            "Requirement already satisfied: protobuf>=3.6.0 in /usr/local/lib/python3.7/dist-packages (from tensorboard>=2.4.1->-r requirements.txt (line 16)) (3.17.3)\n",
            "Requirement already satisfied: grpcio>=1.24.3 in /usr/local/lib/python3.7/dist-packages (from tensorboard>=2.4.1->-r requirements.txt (line 16)) (1.44.0)\n",
            "Requirement already satisfied: pytz>=2017.3 in /usr/local/lib/python3.7/dist-packages (from pandas>=1.1.4->-r requirements.txt (line 20)) (2022.1)\n",
            "Requirement already satisfied: six in /usr/local/lib/python3.7/dist-packages (from absl-py>=0.4->tensorboard>=2.4.1->-r requirements.txt (line 16)) (1.15.0)\n",
            "Requirement already satisfied: cachetools<5.0,>=2.0.0 in /usr/local/lib/python3.7/dist-packages (from google-auth<3,>=1.6.3->tensorboard>=2.4.1->-r requirements.txt (line 16)) (4.2.4)\n",
            "Requirement already satisfied: pyasn1-modules>=0.2.1 in /usr/local/lib/python3.7/dist-packages (from google-auth<3,>=1.6.3->tensorboard>=2.4.1->-r requirements.txt (line 16)) (0.2.8)\n",
            "Requirement already satisfied: rsa<5,>=3.1.4 in /usr/local/lib/python3.7/dist-packages (from google-auth<3,>=1.6.3->tensorboard>=2.4.1->-r requirements.txt (line 16)) (4.8)\n",
            "Requirement already satisfied: requests-oauthlib>=0.7.0 in /usr/local/lib/python3.7/dist-packages (from google-auth-oauthlib<0.5,>=0.4.1->tensorboard>=2.4.1->-r requirements.txt (line 16)) (1.3.1)\n",
            "Requirement already satisfied: importlib-metadata>=4.4 in /usr/local/lib/python3.7/dist-packages (from markdown>=2.6.8->tensorboard>=2.4.1->-r requirements.txt (line 16)) (4.11.3)\n",
            "Requirement already satisfied: zipp>=0.5 in /usr/local/lib/python3.7/dist-packages (from importlib-metadata>=4.4->markdown>=2.6.8->tensorboard>=2.4.1->-r requirements.txt (line 16)) (3.8.0)\n",
            "Requirement already satisfied: pyasn1<0.5.0,>=0.4.6 in /usr/local/lib/python3.7/dist-packages (from pyasn1-modules>=0.2.1->google-auth<3,>=1.6.3->tensorboard>=2.4.1->-r requirements.txt (line 16)) (0.4.8)\n",
            "Requirement already satisfied: oauthlib>=3.0.0 in /usr/local/lib/python3.7/dist-packages (from requests-oauthlib>=0.7.0->google-auth-oauthlib<0.5,>=0.4.1->tensorboard>=2.4.1->-r requirements.txt (line 16)) (3.2.0)\n",
            "Installing collected packages: thop, PyYAML\n",
            "  Attempting uninstall: PyYAML\n",
            "    Found existing installation: PyYAML 3.13\n",
            "    Uninstalling PyYAML-3.13:\n",
            "      Successfully uninstalled PyYAML-3.13\n",
            "Successfully installed PyYAML-6.0 thop-0.0.31.post2005241907\n"
          ]
        }
      ],
      "source": [
        "!git clone https://github.com/ultralytics/yolov5\n",
        "#클론받은 폴더로 이동 (change directory)\n",
        "%cd yolov5\n",
        "!pip install -r requirements.txt"
      ]
    },
    {
      "cell_type": "code",
      "source": [
        "!curl -L \"https://public.roboflow.com/ds/no18yiCIMg?key=Zg6rNPrChq\" > roboflow.zip; unzip roboflow.zip; rm roboflow.zip"
      ],
      "metadata": {
        "id": "JapTFo8Lvniv",
        "outputId": "2fde0aac-917a-4cd5-ff4a-5c609a6895a0",
        "colab": {
          "base_uri": "https://localhost:8080/"
        }
      },
      "execution_count": null,
      "outputs": [
        {
          "output_type": "stream",
          "name": "stdout",
          "text": [
            "  % Total    % Received % Xferd  Average Speed   Time    Time     Time  Current\n",
            "                                 Dload  Upload   Total   Spent    Left  Speed\n",
            "100   896  100   896    0     0   1964      0 --:--:-- --:--:-- --:--:--  1960\n",
            "100 3791k  100 3791k    0     0  3900k      0 --:--:-- --:--:-- --:--:-- 3900k\n",
            "Archive:  roboflow.zip\n",
            " extracting: test/images/w1240-p16x9-0e48e0098f6e832f27d8b581b33bbc72b9967a63_jpg.rf.34ed1e8f70eebdabaf43ab9d40dc1c9b.jpg  \n",
            " extracting: test/images/RTX7CCFN_jpg.rf.66ed5c5054f30d933d19ab3d56ace004.jpg  \n",
            " extracting: test/images/the-first-day-of-wuhan-s-closure-some-people-fled-some-panicked_jpg.rf.0302fefb0879eb37736a704ca5d070ff.jpg  \n",
            " extracting: test/images/1288126-10255706714jpg_jpg.rf.95f7324cbfd48e0386e0660b5e932223.jpg  \n",
            " extracting: test/images/126202-untitled-design-13_jpg.rf.56b50d413464989bb2232448a8fbb915.jpg  \n",
            " extracting: test/images/r1p00017o8171pnq407_jpg.rf.6fd25b7219a249e97f54fcabf2b52726.jpg  \n",
            " extracting: test/images/w1240-p16x9-2019-10-04t075956z_1862636027_rc15d4d49d00_rtrmadp_3_hongkong-protests_jpg.rf.061f2c7f7d17a0b472510eadb717a0b9.jpg  \n",
            " extracting: test/images/w1240-p16x9-fa978043deff83fed485af12d16e39c61398fc30_jpg.rf.185d01b7e55e049c6661b8ecd49679fc.jpg  \n",
            " extracting: test/images/15391513329330sooq10859_jpg.rf.89c8524c2096175fa2c728e5d73f1c28.jpg  \n",
            " extracting: test/images/15391513324714o1n0r10n6_jpg.rf.a91fbc7be8a94ed3c48d2e4b35bd53bb.jpg  \n",
            " extracting: train/images/1580128422_jpg.rf.182b42586c5d5ea95a75c17449c48ad3.jpg  \n",
            " extracting: test/images/1579924271_jpg.rf.be5b27c2b2801bccc191e6dbd9bfccca.jpg  \n",
            " extracting: train/images/pollution-mask-CE5HYF_jpg.rf.21d8ab9eb19a6cd10956c96a0cfeff57.jpg  \n",
            " extracting: test/images/0_Concern-In-China-As-Mystery-Virus-Spreads_jpg.rf.3135dfc5feab288d76a4ccfd22dfc5bf.jpg  \n",
            " extracting: train/images/1-200102094256105_png.rf.22dcc10b1378b9ea7f05c83d04c052aa.jpg  \n",
            " extracting: train/images/US-expands-coronavirus-screenings-United-suspends-some-flights-to-China_jpg.rf.1cf554343f0453f6e0a1bd2781cebea9.jpg  \n",
            " extracting: test/images/shutterstock_1627199179_jpg.rf.8432d033a37b3d142ec4ffcede508c7d.jpg  \n",
            " extracting: train/images/sdsdsff_jpg.rf.09e108ae66cf64a3e852ba71cd079040.jpg  \n",
            " extracting: train/images/ST_20190917_SPTHAZE_5120715_jpg.rf.09fb2eecb2449a63f1f239f5fbb713aa.jpg  \n",
            " extracting: test/images/phplpE73q_jpg.rf.bd81cab9f8ff2674ce2e58278f7d37fa.jpg  \n",
            " extracting: train/images/w1240-p16x9-5f8aa310737f8e0e6c43d95a68a82b03b6f60106_jpg.rf.104bedd5b3bad4a0d0a453203e0617a3.jpg  \n",
            " extracting: train/images/so(24) (1)_jpg.rf.1f4af0bfb01c55eb2ebf890b72a6f58c.jpg  \n",
            " extracting: test/images/1224331650_g_400-w_g_jpg.rf.b816f49e2d84044fc997a8cbd55c347d.jpg  \n",
            " extracting: train/images/thumbnail-ba5c72edb320b49a69e86b05775c49b2-scaled-1_jpeg.rf.035d587add7bc2a6c7616d72e56bfad4.jpg  \n",
            " extracting: train/images/so(19)_jpg.rf.0f2cb945829d1efef8e7fdf7757bd27e.jpg  \n",
            " extracting: train/images/stsciRq_png.rf.32af3f507296909b52bed7d5649e6d45.jpg  \n",
            " extracting: train/images/Smog-Mask-PM2-5-Carbon-Filter-Face-Masks-Fog-Dust-Air-Cleaner-anti-pollution-Face-Protector_jpg.rf.282b5e45b24750c08d6ea03ec9120177.jpg  \n",
            " extracting: train/images/Untitled-design-13_png.rf.612ee6f2911872a9bc2a7de326dea042.jpg  \n",
            " extracting: train/images/r1p00017o82psp0o0or_jpg.rf.4bd9169e3618ad676e3840939a868342.jpg  \n",
            " extracting: train/images/1152x768_246964803156_jpg.rf.3ea9205f57b870e2ca83cc18349402f4.jpg  \n",
            " extracting: train/images/0002526673_jpg.rf.2c547115c01c1b5a10c6d467551f0cae.jpg  \n",
            " extracting: train/images/1_13_jpg.rf.53ab50cc136587dec9d42678014977f1.jpg  \n",
            " extracting: train/images/PRI_129079114_1580299603_195_jpg.rf.4906d1ce61ad9a5c86ccfe7e4e261159.jpg  \n",
            " extracting: train/images/1_R_kFK9pNLfKAuopY_lAaPQ_jpeg.rf.6099e0a6d528f19fa772e7aa9f1755e5.jpg  \n",
            " extracting: train/images/TASS38012699_jpg.rf.2ae7b2aacba7e9e3eeb8dd3df8df8baf.jpg  \n",
            " extracting: train/images/UDD3JG3E4JFQ5KSFNGQQ5REINU_jpg.rf.407dec06f156a19662ff3e2cb2719dce.jpg  \n",
            " extracting: train/images/TB2R28UvUOWBKNjSZKzXXXfWFXa_!!1116877752_jpg.rf.246ac310a70b6f9a13d530c71816a5af.jpg  \n",
            " extracting: train/images/000b7b75-1600_jpg.rf.5d7117e8571505dbfe49e2f737089ea0.jpg  \n",
            " extracting: train/images/125895-untitled-design-30_jpg.rf.6465ad60ebf89d2ea25dded290c87583.jpg  \n",
            " extracting: train/images/RTX1GIDS_jpg.rf.5b4032f806a5d6f517ee374f27bd1f63.jpg  \n",
            " extracting: train/images/pic_list_out_2285_jpg.rf.3ff40a6045e4046772bc2c2645ccc645.jpg  \n",
            " extracting: train/images/1303078448-China-Coronavirus-Death-Toll-Hits-304_jpg.rf.353f9ffe10e6823c6c363687d88441ba.jpg  \n",
            " extracting: train/images/130624011830-malaysia-smog-students-horizontal-large-gallery_jpg.rf.52c2d92bc918a8bf50e76895031ec3a0.jpg  \n",
            " extracting: train/images/unnamed_jpg.rf.638850185c6f05a027f34188518f6a9e.jpg  \n",
            " extracting: train/images/shutterstock_289132226_jpg.rf.2fb2653c829b5d8f4442db65341441c0.jpg  \n",
            " extracting: train/images/1125506397_15801322207531n_jpg.rf.2c690122cfecf93fe31fcd327986e0e2.jpg  \n",
            " extracting: train/images/0450908675_50159485_mutation-virus-chine-inquietude_jpg.rf.466d55e174c1bc43889c49b06aad0d75.jpg  \n",
            " extracting: train/images/1249493_jpg.rf.64cad435d15dc175168c3595c69d0de2.jpg  \n",
            " extracting: train/images/1125506397_15801322207071n_jpg.rf.4af8170b619c5e1992c9ffd14c60d031.jpg  \n",
            " extracting: train/images/ST_20170401_EASAND_3046471_jpg.rf.53b81c9038b86e2964978d3d9eefea8f.jpg  \n",
            " extracting: train/images/sars-gettyimages-157005245_jpg.rf.5f33a6bd1f780b98e348507f3835d4d6.jpg  \n",
            " extracting: train/images/rally-against-an-anti-mask-law-meant-to-deter-anti-government-protesters-in-hong-kong-china-shutterstock-editorial-10435716z_jpg.rf.67084d16d65a043ace3f2e66af294654.jpg  \n",
            " extracting: train/images/0_8w7mkX-PHcfMM5s6_jpeg.rf.74932d662e4077ea5e4374a0038e5757.jpg  \n",
            " extracting: train/images/0602623232127-web-tete_jpg.rf.70c23b5e96669fb4f31a7cbd6d52a670.jpg  \n",
            " extracting: train/images/IMG_5690 2_jpg.rf.77600927c589b6817b9ac8349615381f.jpg  \n",
            " extracting: train/images/0200b38c89b16c37c5de8e247bb00c2f_jpg.rf.6a5b142fd82320d571402836bce2cf0a.jpg  \n",
            " extracting: train/images/W37H3GWNO5EV5HTJQNP4KLIRGI_jpg.rf.6b7420e9e1049f6ac7241cce59dcc6a8.jpg  \n",
            " extracting: train/images/1000x-1_jpg.rf.743291b4977f67bdd59a05ee98c9e28b.jpg  \n",
            " extracting: train/images/1042977068_jpg.rf.84c3af9736d1fe2db012d0e91aee5b23.jpg  \n",
            " extracting: train/images/1024x576_939430607723_jpg.rf.7048dfb767a151c5565c1470cec10027.jpg  \n",
            " extracting: train/images/0_10725_jpg.rf.99ff78c82dadd6d49408164489cb6582.jpg  \n",
            " extracting: train/images/purchase-reauisition-5de4d0f99c77d_jpg.rf.9757c9222d6e966e98faa8019a23ba0f.jpg  \n",
            " extracting: train/images/1553605632_9d5877d8_60_jpg.rf.827ad9a39f672aba0756c9ac68d25239.jpg  \n",
            " extracting: train/images/pjecDNMmCUQmbDoJx1fdqolnfHtpsfFK8jTA2Ng0wNg_jpeg.rf.8fe47f350be6db2c10adbc41c7f55e5b.jpg  \n",
            " extracting: train/images/1030611863_jpg.rf.aa3b539ebd06efc89eab0b823f128b96.jpg  \n",
            " extracting: train/images/004_1024_jpeg.rf.763d99dadfb9fe5f3f72ff3cc34f88b6.jpg  \n",
            " extracting: train/images/w1240-p16x9-6f1db5e0460631cfa98d2d6d8032942f81700bb0_jpg.rf.8c642180c2f1fc98109dad7ff09fe24c.jpg  \n",
            " extracting: train/images/1580173904-0001oc33f_jpg.rf.7f27c2bbdd00c11ba838ab7bb71694f4.jpg  \n",
            " extracting: train/images/soooo_jpg.rf.accf5a6d0b0fe444b354a2d293821715.jpg  \n",
            " extracting: train/images/1579928067_250120120154270000005e2bca03bf464_jpg.rf.a50ec0a4e4fcb491cce7766877b04c05.jpg  \n",
            " extracting: train/images/rawImage_jpg.rf.8bdbe22463c3162f05180ff91e67f039.jpg  \n",
            " extracting: train/images/1580166133-5b61094cac11561b0cbe09826e32a924_jpg.rf.7bdada2e62db2019a9a2f936083467c1.jpg  \n",
            " extracting: train/images/1029731146_jpg.rf.7c43f38028cd269068c0ea434b88a5c7.jpg  \n",
            " extracting: train/images/-1x-1_jpg.rf.8d697c00929e06e6655c08835cc66c02.jpg  \n",
            " extracting: train/images/r1000019q689461s9r0_jpg.rf.ae75478d4b2292f9d43a58dc102771df.jpg  \n",
            " extracting: train/images/-I1-MS09uaqsLdGTFkgnS0Rcg1mmPyAj95ySg_eckoM_jpeg.rf.8f09ebde8b7b3ea6f9180eff345ec176.jpg  \n",
            " extracting: train/images/PhotoGrid_1580452532909_jpg.rf.775b14bea12734249ff8fb91ba036856.jpg  \n",
            " extracting: train/images/1133x768_20200130000023_jpg.rf.aa3997898dca01ea870b9cba18d5e3cf.jpg  \n",
            " extracting: train/images/1580053154-5839_jpg.rf.b5682ce5d695469972b6b564e9d1f0ef.jpg  \n",
            " extracting: train/images/r1p00017o80q34s9781_jpg.rf.ce1875a23da51004225ab183255da6c5.jpg  \n",
            " extracting: train/images/sdfsdfsfff_jpg.rf.c4aca6cc392df43f61e14ac002741ab6.jpg  \n",
            " extracting: train/images/012106_jpg_1140x855_jpg.rf.c6524deb426da2c246a03ac0e610f0cb.jpg  \n",
            " extracting: train/images/RZXE24HFK5GSVKVSN57VCVPQ4M_jpg.rf.b60c1ee75de4ff9d4259198376ebb277.jpg  \n",
            " extracting: train/images/1579683152-0e3ba5698b090c0fda95caa5d2aa7b31_jpg.rf.b49395264ccc2be2784ab367a8ac1307.jpg  \n",
            " extracting: train/images/1539151332674193npsrq70_jpg.rf.c1fc5c301d12d8a77bd0bfc961876397.jpg  \n",
            " extracting: train/images/003_1024_jpeg.rf.bc025d99896124ddce6fa706b4a5c7b3.jpg  \n",
            " extracting: train/images/skynews-coronavirus-london-fashion-week_4920359_jpg.rf.cf79aa98be9f8687d550dc35caf9edb6.jpg  \n",
            " extracting: train/images/phppaNXxb_jpg.rf.c406fdd46ea2438e4f111a6a35250d5a.jpg  \n",
            " extracting: train/images/smartmi-3pcs-filter-mask-pm25-haze-dustproof-mask-with-vent_jpg.rf.c5b0c5b7666032c5b4634740eafde234.jpg  \n",
            " extracting: train/images/thai_cov-transmission030220_jpg.rf.bdec1f9f73cff2be8d795fcc7665525b.jpg  \n",
            " extracting: train/images/000_1ov3n5_0_jpeg.rf.a23f1c89491779996f4519858277a4e0.jpg  \n",
            " extracting: train/images/virus_protection123_jpg.rf.d401b0dc63d28e5afed1324e32b5e985.jpg  \n",
            " extracting: train/images/shutterstock_584407723_jpg.rf.bb5ad9ec2eb1ae4510ee88524e453043.jpg  \n",
            " extracting: train/images/soo(1)_jpg.rf.d722163e3c3e0b9f1e4b7a73ea6893cb.jpg  \n",
            " extracting: train/images/1477443223-1445746883_jpg.rf.d05e6a29597722ffcdb222614c353915.jpg  \n",
            " extracting: train/images/101d6660a8974050b613dd2e6bd59390_jpg.rf.d2571bc2121193beb8e9f49af8fc7170.jpg  \n",
            " extracting: train/images/1125506397_15801322206131n_jpg.rf.da8fa082b994849888e09bb86b146aa0.jpg  \n",
            " extracting: train/images/virus_jpg.rf.dc9789ac36ce03125dccaad2f106ed90.jpg  \n",
            " extracting: train/images/remote (1)_jpeg.rf.df7fe4fb8181ab460fc57d04a9991de5.jpg  \n",
            " extracting: train/images/1422808187-3291816118_jpg.rf.d9c28ba7c110caac049036d25e367b65.jpg  \n",
            " extracting: train/images/PHOTriZgIKIgsnNLdBJG75vj200203_1000x2000_jpg.rf.c21824c73f10288c1b316ecd78728b64.jpg  \n",
            " extracting: train/images/RTX7CD4D-e1580252893876_jpg.rf.d9113083bf979d446264b568cc49661a.jpg  \n",
            " extracting: train/images/1140-travelers-at-hong-kong-airport_jpg.rf.df931ff698a201d616311ed661b6a185.jpg  \n",
            " extracting: train/images/1482202839575_jpg.rf.e1a11347c2af5242298a581202adaee0.jpg  \n",
            " extracting: train/images/012420_coronoa_masks_web_jpg.rf.dcc655a29611260a439d59c13b0cad1a.jpg  \n",
            " extracting: train/images/r1p00017o8357s6sno6_jpg.rf.e189080820479c894db2ff1725a7cbe0.jpg  \n",
            " extracting: train/images/1155x768_20200129000089_jpg.rf.e89d69a1fa6fc7cf08e8c30317f7274d.jpg  \n",
            " extracting: train/images/0209-00176-076b1_jpg.rf.e9d992f7258f2c5ae8c29f76a727efda.jpg  \n",
            " extracting: train/images/135e-huxwryw6451820_jpg.rf.e8f7c5a306ba8b15ab37577bae196c2f.jpg  \n",
            " extracting: train/images/1024x737_09186876046_jpg.rf.e999eaf25d69174a9c12b9777042b267.jpg  \n",
            " extracting: train/images/Surgical-Mask-Effectiveness_jpg.rf.ecee1d8215799c8eacb670622f814af9.jpg  \n",
            " extracting: train/images/upload-productImg-1527496119162_320_234_jpeg.rf.d7affc7d5fe3df8bc9a7c5b9678a3c3c.jpg  \n",
            " extracting: train/images/r1000019q679o5611r7_jpg.rf.edff9783255fac6a6ee79a6e985c7af9.jpg  \n",
            " extracting: train/images/skypost16012020a01s_jpg.rf.f52aa2d35c2002c3003e1771ea8e650d.jpg  \n",
            " extracting: train/images/1288788-une-employee-aide-des-voyageurs-en-provenance-de-chine-le-26-janvier-2020-a-l-aeroport-de-roissy_jpg.rf.f896f89876de52df2fed7086bc94d1fd.jpg  \n",
            " extracting: train/images/15-08608-001_jpg.rf.f23eeb640db01b5c025ae54c9c6f3d7f.jpg  \n",
            " extracting: valid/images/000_1OC3DT_jpg.rf.0570a1f4ab79e324496c311456b6b1f8.jpg  \n",
            " extracting: train/images/001_1024_jpeg.rf.f915f4689737658b59732df33fdbee22.jpg  \n",
            " extracting: valid/images/1197315184_jpg_0_jpg.rf.39eb63061e0efb89a8f12a31d676daea.jpg  \n",
            " extracting: valid/images/phpM5suKS_jpg.rf.556d78a695ded9fb5f5d1848c85ed2e0.jpg  \n",
            " extracting: train/images/11893820-3x2-xlarge_jpg.rf.ff6ffd94fa9e0d9dcfcc97380f0aede5.jpg  \n",
            " extracting: valid/images/r1000019q669394n9qp_jpg.rf.827235a6fff02f26ce1320d926f9c5bd.jpg  \n",
            " extracting: valid/images/1197620896_jpg.rf.161417d4b3eafad7376c0ed2f2d66f51.jpg  \n",
            " extracting: valid/images/15391513321824spp815on8_jpg.rf.0fb7d846ae187777d61da0d24f67114c.jpg  \n",
            " extracting: valid/images/w1240-p16x9-coronavirus_CHINA-HEALTH_jpg.rf.73f3f135732ac6139a592ab1139f604a.jpg  \n",
            " extracting: valid/images/0ad90195-cd77-489e-bf85-08c83b80d3e0_jpg.rf.20ed8f759c47a565b60684cfd4524a21.jpg  \n",
            " extracting: valid/images/08_11_2019-airpollution_234_19737819_192539446_jpg.rf.113e45f57dba09fde40d8490ae957fe6.jpg  \n",
            " extracting: valid/images/022814asiatodaymasks_960x540_jpg.rf.20ad64bc5ec9eed694d9f559b9aba31d.jpg  \n",
            " extracting: train/images/1580048340614_jpg.rf.fef748a304d19ffc7c5250005c4a397d.jpg  \n",
            " extracting: valid/images/1483800496-3386248642_jpg.rf.1aff1d3aed5aa07389738834833e8b9b.jpg  \n",
            " extracting: valid/images/0009S6815V3PEU1N-C123-F4_jpg.rf.6b0befd018e6308b6029a17a2ee08c48.jpg  \n",
            " extracting: valid/images/0109-00176-096b1_jpg.rf.c55de2d88f34d1217acdc245fd8292fa.jpg  \n",
            " extracting: valid/images/025418_springwest005_jpg.rf.9d634581749567c27d459b574b431f74.jpg  \n",
            " extracting: valid/images/stock-photo-mother-and-her-daughter-walking-go-to-school-with-wearing-a-protection-mask-against-pm-air-1346870465_jpg.rf.a6b929aae5f5f3dc8beac91039f8c85a.jpg  \n",
            " extracting: valid/images/w1240-p16x9-CORONAVIRUS-CHINA-HEALTH-APPLE STORE_jpg.rf.8f83c6922f9fa841301e6722c35ec9e4.jpg  \n",
            " extracting: valid/images/S1-EV360_FACEMA_M_20200130144349_jpg.rf.a641b3a9b315b4de3b3214da280cafab.jpg  \n",
            " extracting: valid/images/10fea_8011463765e2aa28b386cf_jpg.rf.0b90546b568e369f33ca67b3208b1655.jpg  \n",
            " extracting: valid/images/002_1024_jpeg.rf.b8c41940cb8dd4fa61e92892345859ad.jpg  \n",
            " extracting: valid/images/shutterstock_editorial_10536831j_2e16d0ba_fill-1200x650_jpg.rf.c77c476c19e1ef443057d7ff1a1c9396.jpg  \n",
            " extracting: valid/images/sdgdsgsg_jpg.rf.f6f5f4d4bc541a470631516b804fa642.jpg  \n",
            " extracting: valid/images/REVZGCBIJNQPMIIXOKDCQA3GJI_jpg.rf.ca8353dc437234ee009df613c8b34137.jpg  \n",
            " extracting: valid/images/r1400018548960op29s_jpg.rf.d052eff94795b87ea6ad365aef959779.jpg  \n",
            " extracting: valid/images/15150794626913_jpg.rf.fd41a2c638de913958a46ee288deb908.jpg  \n",
            " extracting: train/images/sgssgg_jpeg.rf.f8a8d53430471346c8e823f41dd44afc.jpg  \n",
            " extracting: valid/images/08165739_jpg.rf.68cc16cde41ba8799e983506931416b8.jpg  \n",
            " extracting: valid/images/us-state-department-warns-against-visiting-china-citing-coronavirus_jpg.rf.e3a632121d73efda9ad7c4c5d5000bad.jpg  \n",
            " extracting: valid/images/1196686205_jpg_14_jpg.rf.ff88135a0f165ca412244980acfbe591.jpg  \n",
            " extracting: valid/images/1125506397_15801322206581n_jpg.rf.e5618d107f187fa409de96fcc56148ff.jpg  \n",
            " extracting: valid/images/shutterstock_1145933543-e1579497052960_jpg.rf.f3807b96202c59d946e24047e52e92d0.jpg  \n",
            " extracting: test/labels/w1240-p16x9-0e48e0098f6e832f27d8b581b33bbc72b9967a63_jpg.rf.34ed1e8f70eebdabaf43ab9d40dc1c9b.txt  \n",
            " extracting: test/labels/RTX7CCFN_jpg.rf.66ed5c5054f30d933d19ab3d56ace004.txt  \n",
            " extracting: test/labels/the-first-day-of-wuhan-s-closure-some-people-fled-some-panicked_jpg.rf.0302fefb0879eb37736a704ca5d070ff.txt  \n",
            " extracting: test/labels/1288126-10255706714jpg_jpg.rf.95f7324cbfd48e0386e0660b5e932223.txt  \n",
            " extracting: test/labels/126202-untitled-design-13_jpg.rf.56b50d413464989bb2232448a8fbb915.txt  \n",
            " extracting: test/labels/r1p00017o8171pnq407_jpg.rf.6fd25b7219a249e97f54fcabf2b52726.txt  \n",
            " extracting: test/labels/w1240-p16x9-2019-10-04t075956z_1862636027_rc15d4d49d00_rtrmadp_3_hongkong-protests_jpg.rf.061f2c7f7d17a0b472510eadb717a0b9.txt  \n",
            " extracting: test/labels/w1240-p16x9-fa978043deff83fed485af12d16e39c61398fc30_jpg.rf.185d01b7e55e049c6661b8ecd49679fc.txt  \n",
            " extracting: test/labels/15391513329330sooq10859_jpg.rf.89c8524c2096175fa2c728e5d73f1c28.txt  \n",
            " extracting: test/labels/15391513324714o1n0r10n6_jpg.rf.a91fbc7be8a94ed3c48d2e4b35bd53bb.txt  \n",
            " extracting: test/labels/1579924271_jpg.rf.be5b27c2b2801bccc191e6dbd9bfccca.txt  \n",
            " extracting: test/labels/0_Concern-In-China-As-Mystery-Virus-Spreads_jpg.rf.3135dfc5feab288d76a4ccfd22dfc5bf.txt  \n",
            " extracting: test/labels/shutterstock_1627199179_jpg.rf.8432d033a37b3d142ec4ffcede508c7d.txt  \n",
            " extracting: test/labels/phplpE73q_jpg.rf.bd81cab9f8ff2674ce2e58278f7d37fa.txt  \n",
            " extracting: test/labels/1224331650_g_400-w_g_jpg.rf.b816f49e2d84044fc997a8cbd55c347d.txt  \n",
            "replace data.yaml? [y]es, [n]o, [A]ll, [N]one, [r]ename: "
          ]
        }
      ]
    },
    {
      "cell_type": "code",
      "source": [
        "!python /content/yolov5/train.py --data \"/content/yolov5/data/custom_dataset.yaml\" --epochs 50"
      ],
      "metadata": {
        "id": "mWuQeMSaax1A",
        "colab": {
          "base_uri": "https://localhost:8080/"
        },
        "outputId": "a940d556-1149-40c2-daf0-50e7043ddbaf"
      },
      "execution_count": 1,
      "outputs": [
        {
          "output_type": "stream",
          "name": "stdout",
          "text": [
            "\u001b[34m\u001b[1mtrain: \u001b[0mweights=yolov5/yolov5s.pt, cfg=, data=/content/yolov5/data/custom_dataset.yaml, hyp=yolov5/data/hyps/hyp.scratch-low.yaml, epochs=50, batch_size=16, imgsz=640, rect=False, resume=False, nosave=False, noval=False, noautoanchor=False, noplots=False, evolve=None, bucket=, cache=None, image_weights=False, device=, multi_scale=False, single_cls=False, optimizer=SGD, sync_bn=False, workers=8, project=yolov5/runs/train, name=exp, exist_ok=False, quad=False, cos_lr=False, label_smoothing=0.0, patience=100, freeze=[0], save_period=-1, local_rank=-1, entity=None, upload_dataset=False, bbox_interval=-1, artifact_alias=latest\n",
            "\u001b[34m\u001b[1mgithub: \u001b[0mup to date with https://github.com/ultralytics/yolov5 ✅\n",
            "YOLOv5 🚀 v6.1-176-gaa7a0e9 torch 1.11.0+cu113 CUDA:0 (Tesla K80, 11441MiB)\n",
            "\n",
            "\u001b[34m\u001b[1mhyperparameters: \u001b[0mlr0=0.01, lrf=0.01, momentum=0.937, weight_decay=0.0005, warmup_epochs=3.0, warmup_momentum=0.8, warmup_bias_lr=0.1, box=0.05, cls=0.5, cls_pw=1.0, obj=1.0, obj_pw=1.0, iou_t=0.2, anchor_t=4.0, fl_gamma=0.0, hsv_h=0.015, hsv_s=0.7, hsv_v=0.4, degrees=0.0, translate=0.1, scale=0.5, shear=0.0, perspective=0.0, flipud=0.0, fliplr=0.5, mosaic=1.0, mixup=0.0, copy_paste=0.0\n",
            "\u001b[34m\u001b[1mWeights & Biases: \u001b[0mrun 'pip install wandb' to automatically track and visualize YOLOv5 🚀 runs (RECOMMENDED)\n",
            "\u001b[34m\u001b[1mTensorBoard: \u001b[0mStart with 'tensorboard --logdir yolov5/runs/train', view at http://localhost:6006/\n",
            "\n",
            "Dataset not found ⚠, missing paths ['/content/valid/images']\n",
            "Traceback (most recent call last):\n",
            "  File \"/content/yolov5/train.py\", line 667, in <module>\n",
            "    main(opt)\n",
            "  File \"/content/yolov5/train.py\", line 562, in main\n",
            "    train(opt.hyp, opt, device, callbacks)\n",
            "  File \"/content/yolov5/train.py\", line 107, in train\n",
            "    data_dict = data_dict or check_dataset(data)  # check if None\n",
            "  File \"/content/yolov5/utils/general.py\", line 491, in check_dataset\n",
            "    raise Exception(emojis('Dataset not found ❌'))\n",
            "Exception: Dataset not found ❌\n"
          ]
        }
      ]
    },
    {
      "cell_type": "code",
      "source": [
        "!python /content/yolov5/val.py --data \"/content/yolov5/data/custom_dataset.yaml\" --weights \"/content/yolov5/runs/train/exp/weights/best.pt\""
      ],
      "metadata": {
        "colab": {
          "base_uri": "https://localhost:8080/"
        },
        "id": "5JR56GgTj286",
        "outputId": "f41d93c4-e835-49bf-965a-7142a4e489fa"
      },
      "execution_count": 2,
      "outputs": [
        {
          "output_type": "stream",
          "name": "stdout",
          "text": [
            "\u001b[34m\u001b[1mval: \u001b[0mdata=/content/yolov5/data/custom_dataset.yaml, weights=['/content/yolov5/runs/train/exp/weights/best.pt'], batch_size=32, imgsz=640, conf_thres=0.001, iou_thres=0.6, task=val, device=, workers=8, single_cls=False, augment=False, verbose=False, save_txt=False, save_hybrid=False, save_conf=False, save_json=False, project=yolov5/runs/val, name=exp, exist_ok=False, half=False, dnn=False\n",
            "YOLOv5 🚀 v6.1-176-gaa7a0e9 torch 1.11.0+cu113 CUDA:0 (Tesla K80, 11441MiB)\n",
            "\n",
            "Traceback (most recent call last):\n",
            "  File \"/content/yolov5/val.py\", line 396, in <module>\n",
            "    main(opt)\n",
            "  File \"/content/yolov5/val.py\", line 369, in main\n",
            "    run(**vars(opt))\n",
            "  File \"/usr/local/lib/python3.7/dist-packages/torch/autograd/grad_mode.py\", line 27, in decorate_context\n",
            "    return func(*args, **kwargs)\n",
            "  File \"/content/yolov5/val.py\", line 140, in run\n",
            "    model = DetectMultiBackend(weights, device=device, dnn=dnn, data=data, fp16=half)\n",
            "  File \"/content/yolov5/models/common.py\", line 307, in __init__\n",
            "    model = attempt_load(weights if isinstance(weights, list) else w, map_location=device)\n",
            "  File \"/content/yolov5/models/experimental.py\", line 96, in attempt_load\n",
            "    ckpt = torch.load(attempt_download(w), map_location=map_location)  # load\n",
            "  File \"/usr/local/lib/python3.7/dist-packages/torch/serialization.py\", line 699, in load\n",
            "    with _open_file_like(f, 'rb') as opened_file:\n",
            "  File \"/usr/local/lib/python3.7/dist-packages/torch/serialization.py\", line 231, in _open_file_like\n",
            "    return _open_file(name_or_buffer, mode)\n",
            "  File \"/usr/local/lib/python3.7/dist-packages/torch/serialization.py\", line 212, in __init__\n",
            "    super(_open_file, self).__init__(open(name, mode))\n",
            "FileNotFoundError: [Errno 2] No such file or directory: '/content/yolov5/runs/train/exp/weights/best.pt'\n"
          ]
        }
      ]
    },
    {
      "cell_type": "code",
      "source": [
        "!python /content/yolov5/detect.py --weights \"/content/yolov5/runs/train/exp/weights/best.pt\""
      ],
      "metadata": {
        "id": "ybR_sLBepnLt",
        "colab": {
          "base_uri": "https://localhost:8080/"
        },
        "outputId": "c356f61f-7f8d-46e8-ed39-f38057d1a11c"
      },
      "execution_count": 3,
      "outputs": [
        {
          "output_type": "stream",
          "name": "stdout",
          "text": [
            "\u001b[34m\u001b[1mdetect: \u001b[0mweights=['/content/yolov5/runs/train/exp/weights/best.pt'], source=yolov5/data/images, data=yolov5/data/coco128.yaml, imgsz=[640, 640], conf_thres=0.25, iou_thres=0.45, max_det=1000, device=, view_img=False, save_txt=False, save_conf=False, save_crop=False, nosave=False, classes=None, agnostic_nms=False, augment=False, visualize=False, update=False, project=yolov5/runs/detect, name=exp, exist_ok=False, line_thickness=3, hide_labels=False, hide_conf=False, half=False, dnn=False\n",
            "YOLOv5 🚀 v6.1-176-gaa7a0e9 torch 1.11.0+cu113 CUDA:0 (Tesla K80, 11441MiB)\n",
            "\n",
            "Traceback (most recent call last):\n",
            "  File \"/content/yolov5/detect.py\", line 252, in <module>\n",
            "    main(opt)\n",
            "  File \"/content/yolov5/detect.py\", line 247, in main\n",
            "    run(**vars(opt))\n",
            "  File \"/usr/local/lib/python3.7/dist-packages/torch/autograd/grad_mode.py\", line 27, in decorate_context\n",
            "    return func(*args, **kwargs)\n",
            "  File \"/content/yolov5/detect.py\", line 92, in run\n",
            "    model = DetectMultiBackend(weights, device=device, dnn=dnn, data=data, fp16=half)\n",
            "  File \"/content/yolov5/models/common.py\", line 307, in __init__\n",
            "    model = attempt_load(weights if isinstance(weights, list) else w, map_location=device)\n",
            "  File \"/content/yolov5/models/experimental.py\", line 96, in attempt_load\n",
            "    ckpt = torch.load(attempt_download(w), map_location=map_location)  # load\n",
            "  File \"/usr/local/lib/python3.7/dist-packages/torch/serialization.py\", line 699, in load\n",
            "    with _open_file_like(f, 'rb') as opened_file:\n",
            "  File \"/usr/local/lib/python3.7/dist-packages/torch/serialization.py\", line 231, in _open_file_like\n",
            "    return _open_file(name_or_buffer, mode)\n",
            "  File \"/usr/local/lib/python3.7/dist-packages/torch/serialization.py\", line 212, in __init__\n",
            "    super(_open_file, self).__init__(open(name, mode))\n",
            "FileNotFoundError: [Errno 2] No such file or directory: '/content/yolov5/runs/train/exp/weights/best.pt'\n"
          ]
        }
      ]
    },
    {
      "cell_type": "code",
      "source": [
        "!python /content/yolov5/detect.py --weights \"/content/yolov5/runs/train/exp/weights/best.pt\" --source \"/content/yolov5/test/images\""
      ],
      "metadata": {
        "colab": {
          "base_uri": "https://localhost:8080/"
        },
        "id": "jTdY2Iwcr2c0",
        "outputId": "32b10db7-9f3a-4c1b-c34c-16e8412a1a77"
      },
      "execution_count": 4,
      "outputs": [
        {
          "output_type": "stream",
          "name": "stdout",
          "text": [
            "\u001b[34m\u001b[1mdetect: \u001b[0mweights=['/content/yolov5/runs/train/exp/weights/best.pt'], source=/content/yolov5/test/images, data=yolov5/data/coco128.yaml, imgsz=[640, 640], conf_thres=0.25, iou_thres=0.45, max_det=1000, device=, view_img=False, save_txt=False, save_conf=False, save_crop=False, nosave=False, classes=None, agnostic_nms=False, augment=False, visualize=False, update=False, project=yolov5/runs/detect, name=exp, exist_ok=False, line_thickness=3, hide_labels=False, hide_conf=False, half=False, dnn=False\n",
            "YOLOv5 🚀 v6.1-176-gaa7a0e9 torch 1.11.0+cu113 CUDA:0 (Tesla K80, 11441MiB)\n",
            "\n",
            "Traceback (most recent call last):\n",
            "  File \"/content/yolov5/detect.py\", line 252, in <module>\n",
            "    main(opt)\n",
            "  File \"/content/yolov5/detect.py\", line 247, in main\n",
            "    run(**vars(opt))\n",
            "  File \"/usr/local/lib/python3.7/dist-packages/torch/autograd/grad_mode.py\", line 27, in decorate_context\n",
            "    return func(*args, **kwargs)\n",
            "  File \"/content/yolov5/detect.py\", line 92, in run\n",
            "    model = DetectMultiBackend(weights, device=device, dnn=dnn, data=data, fp16=half)\n",
            "  File \"/content/yolov5/models/common.py\", line 307, in __init__\n",
            "    model = attempt_load(weights if isinstance(weights, list) else w, map_location=device)\n",
            "  File \"/content/yolov5/models/experimental.py\", line 96, in attempt_load\n",
            "    ckpt = torch.load(attempt_download(w), map_location=map_location)  # load\n",
            "  File \"/usr/local/lib/python3.7/dist-packages/torch/serialization.py\", line 699, in load\n",
            "    with _open_file_like(f, 'rb') as opened_file:\n",
            "  File \"/usr/local/lib/python3.7/dist-packages/torch/serialization.py\", line 231, in _open_file_like\n",
            "    return _open_file(name_or_buffer, mode)\n",
            "  File \"/usr/local/lib/python3.7/dist-packages/torch/serialization.py\", line 212, in __init__\n",
            "    super(_open_file, self).__init__(open(name, mode))\n",
            "FileNotFoundError: [Errno 2] No such file or directory: '/content/yolov5/runs/train/exp/weights/best.pt'\n"
          ]
        }
      ]
    }
  ]
}